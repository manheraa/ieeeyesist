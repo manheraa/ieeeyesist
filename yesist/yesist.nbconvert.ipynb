{
 "cells": [
  {
   "cell_type": "code",
   "execution_count": 1,
   "id": "50075f32",
   "metadata": {
    "execution": {
     "iopub.execute_input": "2023-08-17T10:25:46.133860Z",
     "iopub.status.busy": "2023-08-17T10:25:46.133278Z",
     "iopub.status.idle": "2023-08-17T10:25:47.442419Z",
     "shell.execute_reply": "2023-08-17T10:25:47.441272Z"
    }
   },
   "outputs": [],
   "source": [
    "from geopy.geocoders import Nominatim\n",
    "import pandas as  pd\n",
    "import numpy as np\n",
    "import matplotlib.pyplot as plt"
   ]
  },
  {
   "cell_type": "code",
   "execution_count": 2,
   "id": "0fc1435d",
   "metadata": {
    "execution": {
     "iopub.execute_input": "2023-08-17T10:25:47.446802Z",
     "iopub.status.busy": "2023-08-17T10:25:47.445746Z",
     "iopub.status.idle": "2023-08-17T10:25:47.454181Z",
     "shell.execute_reply": "2023-08-17T10:25:47.453075Z"
    }
   },
   "outputs": [],
   "source": [
    "import urllib.request\n",
    "inpp=pd.read_csv(r\"./input.csv\",header=None)"
   ]
  },
  {
   "cell_type": "code",
   "execution_count": 3,
   "id": "b911ba45",
   "metadata": {
    "execution": {
     "iopub.execute_input": "2023-08-17T10:25:47.458327Z",
     "iopub.status.busy": "2023-08-17T10:25:47.457374Z",
     "iopub.status.idle": "2023-08-17T10:25:48.332047Z",
     "shell.execute_reply": "2023-08-17T10:25:48.330914Z"
    }
   },
   "outputs": [
    {
     "name": "stdout",
     "output_type": "stream",
     "text": [
      "Dharwad, Dharawada taluku, Dharwad District, Karnataka, 580001, India\n",
      "15.4540505\n",
      "75.0066516\n"
     ]
    }
   ],
   "source": [
    "start_date=inpp.iloc[0,0]\n",
    "end_date=inpp.iloc[0,1]\n",
    "address=inpp.iloc[0,2]\n",
    "nom=Nominatim(user_agent=\"manuheralagi4@gmail.com\")\n",
    "loc=nom.geocode(address)\n",
    "if(loc==None):\n",
    "    print(\"Invalid address\")\n",
    "    \n",
    "print(loc.address)\n",
    "print(loc.latitude)\n",
    "print(loc.longitude)\n",
    "\n"
   ]
  },
  {
   "cell_type": "code",
   "execution_count": 4,
   "id": "c18fdbf2",
   "metadata": {
    "execution": {
     "iopub.execute_input": "2023-08-17T10:25:48.336614Z",
     "iopub.status.busy": "2023-08-17T10:25:48.336136Z",
     "iopub.status.idle": "2023-08-17T10:25:48.341399Z",
     "shell.execute_reply": "2023-08-17T10:25:48.340523Z"
    }
   },
   "outputs": [],
   "source": [
    "\n",
    "link=\"https://power.larc.nasa.gov/api/temporal/daily/point?start=\"+str(start_date)+\"&end=\"+str(end_date)+\"&latitude=\"+str(loc.latitude)+\"&longitude=\"+str(loc.longitude)+\"&community=ag&parameters=T2M_MAX%2CT2M_MIN%2CRH2M%2CPRECTOTCORR%2CPS%2CWS10M_RANGE&format=csv&header=true&time-standard=lst\""
   ]
  },
  {
   "cell_type": "code",
   "execution_count": 5,
   "id": "83ec362d",
   "metadata": {
    "execution": {
     "iopub.execute_input": "2023-08-17T10:25:48.344890Z",
     "iopub.status.busy": "2023-08-17T10:25:48.344580Z",
     "iopub.status.idle": "2023-08-17T10:25:51.653548Z",
     "shell.execute_reply": "2023-08-17T10:25:51.652327Z"
    }
   },
   "outputs": [
    {
     "data": {
      "text/plain": [
       "('w.csv', <http.client.HTTPMessage at 0x7efbe7dc9810>)"
      ]
     },
     "execution_count": 5,
     "metadata": {},
     "output_type": "execute_result"
    }
   ],
   "source": [
    "urllib.request.urlretrieve(link,'w.csv')"
   ]
  },
  {
   "cell_type": "code",
   "execution_count": 6,
   "id": "92d27444",
   "metadata": {
    "execution": {
     "iopub.execute_input": "2023-08-17T10:25:51.657363Z",
     "iopub.status.busy": "2023-08-17T10:25:51.657078Z",
     "iopub.status.idle": "2023-08-17T10:25:51.664724Z",
     "shell.execute_reply": "2023-08-17T10:25:51.664012Z"
    }
   },
   "outputs": [],
   "source": [
    "x=pd.read_csv(r\"./w.csv\",skiprows=14)"
   ]
  },
  {
   "cell_type": "code",
   "execution_count": 7,
   "id": "8e02c985",
   "metadata": {
    "execution": {
     "iopub.execute_input": "2023-08-17T10:25:51.667961Z",
     "iopub.status.busy": "2023-08-17T10:25:51.667681Z",
     "iopub.status.idle": "2023-08-17T10:25:51.684636Z",
     "shell.execute_reply": "2023-08-17T10:25:51.683663Z"
    }
   },
   "outputs": [
    {
     "data": {
      "text/html": [
       "<div>\n",
       "<style scoped>\n",
       "    .dataframe tbody tr th:only-of-type {\n",
       "        vertical-align: middle;\n",
       "    }\n",
       "\n",
       "    .dataframe tbody tr th {\n",
       "        vertical-align: top;\n",
       "    }\n",
       "\n",
       "    .dataframe thead th {\n",
       "        text-align: right;\n",
       "    }\n",
       "</style>\n",
       "<table border=\"1\" class=\"dataframe\">\n",
       "  <thead>\n",
       "    <tr style=\"text-align: right;\">\n",
       "      <th></th>\n",
       "      <th>YEAR</th>\n",
       "      <th>DOY</th>\n",
       "      <th>T2M_MAX</th>\n",
       "      <th>T2M_MIN</th>\n",
       "      <th>RH2M</th>\n",
       "      <th>PRECTOTCORR</th>\n",
       "      <th>PS</th>\n",
       "      <th>WS10M_RANGE</th>\n",
       "    </tr>\n",
       "  </thead>\n",
       "  <tbody>\n",
       "    <tr>\n",
       "      <th>0</th>\n",
       "      <td>2020</td>\n",
       "      <td>1</td>\n",
       "      <td>28.73</td>\n",
       "      <td>16.15</td>\n",
       "      <td>80.12</td>\n",
       "      <td>0.0</td>\n",
       "      <td>94.27</td>\n",
       "      <td>3.10</td>\n",
       "    </tr>\n",
       "    <tr>\n",
       "      <th>1</th>\n",
       "      <td>2020</td>\n",
       "      <td>2</td>\n",
       "      <td>28.82</td>\n",
       "      <td>17.11</td>\n",
       "      <td>78.25</td>\n",
       "      <td>0.0</td>\n",
       "      <td>94.40</td>\n",
       "      <td>1.74</td>\n",
       "    </tr>\n",
       "    <tr>\n",
       "      <th>2</th>\n",
       "      <td>2020</td>\n",
       "      <td>3</td>\n",
       "      <td>28.77</td>\n",
       "      <td>15.40</td>\n",
       "      <td>75.69</td>\n",
       "      <td>0.0</td>\n",
       "      <td>94.34</td>\n",
       "      <td>2.53</td>\n",
       "    </tr>\n",
       "    <tr>\n",
       "      <th>3</th>\n",
       "      <td>2020</td>\n",
       "      <td>4</td>\n",
       "      <td>27.45</td>\n",
       "      <td>13.87</td>\n",
       "      <td>73.88</td>\n",
       "      <td>0.0</td>\n",
       "      <td>94.20</td>\n",
       "      <td>2.57</td>\n",
       "    </tr>\n",
       "    <tr>\n",
       "      <th>4</th>\n",
       "      <td>2020</td>\n",
       "      <td>5</td>\n",
       "      <td>28.55</td>\n",
       "      <td>12.13</td>\n",
       "      <td>67.94</td>\n",
       "      <td>0.0</td>\n",
       "      <td>94.15</td>\n",
       "      <td>2.69</td>\n",
       "    </tr>\n",
       "    <tr>\n",
       "      <th>...</th>\n",
       "      <td>...</td>\n",
       "      <td>...</td>\n",
       "      <td>...</td>\n",
       "      <td>...</td>\n",
       "      <td>...</td>\n",
       "      <td>...</td>\n",
       "      <td>...</td>\n",
       "      <td>...</td>\n",
       "    </tr>\n",
       "    <tr>\n",
       "      <th>727</th>\n",
       "      <td>2021</td>\n",
       "      <td>362</td>\n",
       "      <td>27.83</td>\n",
       "      <td>13.80</td>\n",
       "      <td>75.75</td>\n",
       "      <td>0.0</td>\n",
       "      <td>94.32</td>\n",
       "      <td>5.09</td>\n",
       "    </tr>\n",
       "    <tr>\n",
       "      <th>728</th>\n",
       "      <td>2021</td>\n",
       "      <td>363</td>\n",
       "      <td>27.69</td>\n",
       "      <td>13.29</td>\n",
       "      <td>73.25</td>\n",
       "      <td>0.0</td>\n",
       "      <td>94.26</td>\n",
       "      <td>3.02</td>\n",
       "    </tr>\n",
       "    <tr>\n",
       "      <th>729</th>\n",
       "      <td>2021</td>\n",
       "      <td>364</td>\n",
       "      <td>27.76</td>\n",
       "      <td>14.53</td>\n",
       "      <td>73.00</td>\n",
       "      <td>0.0</td>\n",
       "      <td>94.36</td>\n",
       "      <td>3.29</td>\n",
       "    </tr>\n",
       "    <tr>\n",
       "      <th>730</th>\n",
       "      <td>2021</td>\n",
       "      <td>365</td>\n",
       "      <td>27.84</td>\n",
       "      <td>15.41</td>\n",
       "      <td>79.44</td>\n",
       "      <td>0.0</td>\n",
       "      <td>94.49</td>\n",
       "      <td>3.80</td>\n",
       "    </tr>\n",
       "    <tr>\n",
       "      <th>731</th>\n",
       "      <td>2022</td>\n",
       "      <td>1</td>\n",
       "      <td>27.82</td>\n",
       "      <td>17.48</td>\n",
       "      <td>79.12</td>\n",
       "      <td>0.0</td>\n",
       "      <td>94.51</td>\n",
       "      <td>3.91</td>\n",
       "    </tr>\n",
       "  </tbody>\n",
       "</table>\n",
       "<p>732 rows × 8 columns</p>\n",
       "</div>"
      ],
      "text/plain": [
       "     YEAR  DOY  T2M_MAX  T2M_MIN   RH2M  PRECTOTCORR     PS  WS10M_RANGE\n",
       "0    2020    1    28.73    16.15  80.12          0.0  94.27         3.10\n",
       "1    2020    2    28.82    17.11  78.25          0.0  94.40         1.74\n",
       "2    2020    3    28.77    15.40  75.69          0.0  94.34         2.53\n",
       "3    2020    4    27.45    13.87  73.88          0.0  94.20         2.57\n",
       "4    2020    5    28.55    12.13  67.94          0.0  94.15         2.69\n",
       "..    ...  ...      ...      ...    ...          ...    ...          ...\n",
       "727  2021  362    27.83    13.80  75.75          0.0  94.32         5.09\n",
       "728  2021  363    27.69    13.29  73.25          0.0  94.26         3.02\n",
       "729  2021  364    27.76    14.53  73.00          0.0  94.36         3.29\n",
       "730  2021  365    27.84    15.41  79.44          0.0  94.49         3.80\n",
       "731  2022    1    27.82    17.48  79.12          0.0  94.51         3.91\n",
       "\n",
       "[732 rows x 8 columns]"
      ]
     },
     "execution_count": 7,
     "metadata": {},
     "output_type": "execute_result"
    }
   ],
   "source": [
    "x"
   ]
  },
  {
   "cell_type": "code",
   "execution_count": 8,
   "id": "b7988873",
   "metadata": {
    "execution": {
     "iopub.execute_input": "2023-08-17T10:25:51.688106Z",
     "iopub.status.busy": "2023-08-17T10:25:51.687817Z",
     "iopub.status.idle": "2023-08-17T10:25:51.700173Z",
     "shell.execute_reply": "2023-08-17T10:25:51.699302Z"
    }
   },
   "outputs": [
    {
     "name": "stdout",
     "output_type": "stream",
     "text": [
      "<class 'pandas.core.frame.DataFrame'>\n",
      "RangeIndex: 732 entries, 0 to 731\n",
      "Data columns (total 8 columns):\n",
      " #   Column       Non-Null Count  Dtype  \n",
      "---  ------       --------------  -----  \n",
      " 0   YEAR         732 non-null    int64  \n",
      " 1   DOY          732 non-null    int64  \n",
      " 2   T2M_MAX      732 non-null    float64\n",
      " 3   T2M_MIN      732 non-null    float64\n",
      " 4   RH2M         732 non-null    float64\n",
      " 5   PRECTOTCORR  732 non-null    float64\n",
      " 6   PS           732 non-null    float64\n",
      " 7   WS10M_RANGE  732 non-null    float64\n",
      "dtypes: float64(6), int64(2)\n",
      "memory usage: 45.9 KB\n"
     ]
    }
   ],
   "source": [
    "x.info()"
   ]
  },
  {
   "cell_type": "code",
   "execution_count": 9,
   "id": "30aee9b7",
   "metadata": {
    "execution": {
     "iopub.execute_input": "2023-08-17T10:25:51.703480Z",
     "iopub.status.busy": "2023-08-17T10:25:51.703222Z",
     "iopub.status.idle": "2023-08-17T10:25:51.737820Z",
     "shell.execute_reply": "2023-08-17T10:25:51.736891Z"
    },
    "scrolled": true
   },
   "outputs": [
    {
     "data": {
      "text/html": [
       "<div>\n",
       "<style scoped>\n",
       "    .dataframe tbody tr th:only-of-type {\n",
       "        vertical-align: middle;\n",
       "    }\n",
       "\n",
       "    .dataframe tbody tr th {\n",
       "        vertical-align: top;\n",
       "    }\n",
       "\n",
       "    .dataframe thead th {\n",
       "        text-align: right;\n",
       "    }\n",
       "</style>\n",
       "<table border=\"1\" class=\"dataframe\">\n",
       "  <thead>\n",
       "    <tr style=\"text-align: right;\">\n",
       "      <th></th>\n",
       "      <th>YEAR</th>\n",
       "      <th>DOY</th>\n",
       "      <th>T2M_MAX</th>\n",
       "      <th>T2M_MIN</th>\n",
       "      <th>RH2M</th>\n",
       "      <th>PRECTOTCORR</th>\n",
       "      <th>PS</th>\n",
       "      <th>WS10M_RANGE</th>\n",
       "    </tr>\n",
       "  </thead>\n",
       "  <tbody>\n",
       "    <tr>\n",
       "      <th>count</th>\n",
       "      <td>732.000000</td>\n",
       "      <td>732.000000</td>\n",
       "      <td>732.000000</td>\n",
       "      <td>732.000000</td>\n",
       "      <td>732.000000</td>\n",
       "      <td>732.000000</td>\n",
       "      <td>732.000000</td>\n",
       "      <td>732.000000</td>\n",
       "    </tr>\n",
       "    <tr>\n",
       "      <th>mean</th>\n",
       "      <td>2020.501366</td>\n",
       "      <td>183.001366</td>\n",
       "      <td>30.453361</td>\n",
       "      <td>19.847527</td>\n",
       "      <td>72.929030</td>\n",
       "      <td>4.152732</td>\n",
       "      <td>93.913033</td>\n",
       "      <td>3.437486</td>\n",
       "    </tr>\n",
       "    <tr>\n",
       "      <th>std</th>\n",
       "      <td>0.503067</td>\n",
       "      <td>105.725770</td>\n",
       "      <td>4.316519</td>\n",
       "      <td>2.836644</td>\n",
       "      <td>18.145651</td>\n",
       "      <td>7.747490</td>\n",
       "      <td>0.263549</td>\n",
       "      <td>1.127636</td>\n",
       "    </tr>\n",
       "    <tr>\n",
       "      <th>min</th>\n",
       "      <td>2020.000000</td>\n",
       "      <td>1.000000</td>\n",
       "      <td>23.510000</td>\n",
       "      <td>10.950000</td>\n",
       "      <td>23.750000</td>\n",
       "      <td>0.000000</td>\n",
       "      <td>93.030000</td>\n",
       "      <td>0.870000</td>\n",
       "    </tr>\n",
       "    <tr>\n",
       "      <th>25%</th>\n",
       "      <td>2020.000000</td>\n",
       "      <td>91.750000</td>\n",
       "      <td>27.257500</td>\n",
       "      <td>17.822500</td>\n",
       "      <td>58.735000</td>\n",
       "      <td>0.000000</td>\n",
       "      <td>93.720000</td>\n",
       "      <td>2.597500</td>\n",
       "    </tr>\n",
       "    <tr>\n",
       "      <th>50%</th>\n",
       "      <td>2020.500000</td>\n",
       "      <td>183.000000</td>\n",
       "      <td>28.640000</td>\n",
       "      <td>20.730000</td>\n",
       "      <td>81.440000</td>\n",
       "      <td>0.705000</td>\n",
       "      <td>93.895000</td>\n",
       "      <td>3.410000</td>\n",
       "    </tr>\n",
       "    <tr>\n",
       "      <th>75%</th>\n",
       "      <td>2021.000000</td>\n",
       "      <td>274.250000</td>\n",
       "      <td>33.672500</td>\n",
       "      <td>21.762500</td>\n",
       "      <td>87.560000</td>\n",
       "      <td>5.000000</td>\n",
       "      <td>94.130000</td>\n",
       "      <td>4.170000</td>\n",
       "    </tr>\n",
       "    <tr>\n",
       "      <th>max</th>\n",
       "      <td>2022.000000</td>\n",
       "      <td>366.000000</td>\n",
       "      <td>40.360000</td>\n",
       "      <td>25.320000</td>\n",
       "      <td>96.120000</td>\n",
       "      <td>61.370000</td>\n",
       "      <td>94.510000</td>\n",
       "      <td>7.610000</td>\n",
       "    </tr>\n",
       "  </tbody>\n",
       "</table>\n",
       "</div>"
      ],
      "text/plain": [
       "              YEAR         DOY     T2M_MAX     T2M_MIN        RH2M  \\\n",
       "count   732.000000  732.000000  732.000000  732.000000  732.000000   \n",
       "mean   2020.501366  183.001366   30.453361   19.847527   72.929030   \n",
       "std       0.503067  105.725770    4.316519    2.836644   18.145651   \n",
       "min    2020.000000    1.000000   23.510000   10.950000   23.750000   \n",
       "25%    2020.000000   91.750000   27.257500   17.822500   58.735000   \n",
       "50%    2020.500000  183.000000   28.640000   20.730000   81.440000   \n",
       "75%    2021.000000  274.250000   33.672500   21.762500   87.560000   \n",
       "max    2022.000000  366.000000   40.360000   25.320000   96.120000   \n",
       "\n",
       "       PRECTOTCORR          PS  WS10M_RANGE  \n",
       "count   732.000000  732.000000   732.000000  \n",
       "mean      4.152732   93.913033     3.437486  \n",
       "std       7.747490    0.263549     1.127636  \n",
       "min       0.000000   93.030000     0.870000  \n",
       "25%       0.000000   93.720000     2.597500  \n",
       "50%       0.705000   93.895000     3.410000  \n",
       "75%       5.000000   94.130000     4.170000  \n",
       "max      61.370000   94.510000     7.610000  "
      ]
     },
     "execution_count": 9,
     "metadata": {},
     "output_type": "execute_result"
    }
   ],
   "source": [
    "x.describe()"
   ]
  },
  {
   "cell_type": "code",
   "execution_count": 10,
   "id": "ae1e7e9f",
   "metadata": {
    "execution": {
     "iopub.execute_input": "2023-08-17T10:25:51.741414Z",
     "iopub.status.busy": "2023-08-17T10:25:51.741051Z",
     "iopub.status.idle": "2023-08-17T10:25:53.014074Z",
     "shell.execute_reply": "2023-08-17T10:25:53.012410Z"
    }
   },
   "outputs": [
    {
     "name": "stdout",
     "output_type": "stream",
     "text": [
      "Scaled df:\n",
      " [[0.30979228 0.361865   0.77891391 0.         0.83783784 0.33086053]\n",
      " [0.31513353 0.42867084 0.75307448 0.         0.92567568 0.12908012]\n",
      " [0.31216617 0.30967293 0.7177007  0.         0.88513514 0.2462908 ]\n",
      " ...\n",
      " [0.25222552 0.24913013 0.68053061 0.         0.89864865 0.35905045]\n",
      " [0.25697329 0.31036882 0.76951776 0.         0.98648649 0.4347181 ]\n",
      " [0.25578635 0.45441893 0.76509603 0.         1.         0.45103858]] \n",
      " (732, 6)\n"
     ]
    }
   ],
   "source": [
    "from sklearn.preprocessing import MinMaxScaler\n",
    "scaler = MinMaxScaler()\n",
    "\n",
    "scaled = scaler.fit_transform(x.loc[:, ~x.columns.isin(['YEAR',\"DOY\",])])\n",
    "print('Scaled df:\\n', scaled, '\\n', scaled.shape)"
   ]
  },
  {
   "cell_type": "code",
   "execution_count": 11,
   "id": "62ea8669",
   "metadata": {
    "execution": {
     "iopub.execute_input": "2023-08-17T10:25:53.017940Z",
     "iopub.status.busy": "2023-08-17T10:25:53.017350Z",
     "iopub.status.idle": "2023-08-17T10:25:53.061272Z",
     "shell.execute_reply": "2023-08-17T10:25:53.060319Z"
    }
   },
   "outputs": [],
   "source": [
    "from sklearn.model_selection import train_test_split\n",
    "train, test = train_test_split(scaled, test_size = 0.1425, shuffle = False)\n",
    "x_train, y_train, x_test, y_test = [], [], [], []\n",
    "for i in range (1, len(train)):\n",
    "    x_train.append(train[i-1])\n",
    "    y_train.append(train[i])\n",
    "for i in range (1, len(test)):\n",
    "    x_test.append(test[i-1])\n",
    "    y_test.append(test[i])"
   ]
  },
  {
   "cell_type": "code",
   "execution_count": 12,
   "id": "be0e2170",
   "metadata": {
    "execution": {
     "iopub.execute_input": "2023-08-17T10:25:53.064618Z",
     "iopub.status.busy": "2023-08-17T10:25:53.064240Z",
     "iopub.status.idle": "2023-08-17T10:25:53.079239Z",
     "shell.execute_reply": "2023-08-17T10:25:53.078430Z"
    }
   },
   "outputs": [
    {
     "data": {
      "text/html": [
       "<div>\n",
       "<style scoped>\n",
       "    .dataframe tbody tr th:only-of-type {\n",
       "        vertical-align: middle;\n",
       "    }\n",
       "\n",
       "    .dataframe tbody tr th {\n",
       "        vertical-align: top;\n",
       "    }\n",
       "\n",
       "    .dataframe thead th {\n",
       "        text-align: right;\n",
       "    }\n",
       "</style>\n",
       "<table border=\"1\" class=\"dataframe\">\n",
       "  <thead>\n",
       "    <tr style=\"text-align: right;\">\n",
       "      <th></th>\n",
       "      <th>0</th>\n",
       "      <th>1</th>\n",
       "      <th>2</th>\n",
       "      <th>3</th>\n",
       "      <th>4</th>\n",
       "      <th>5</th>\n",
       "    </tr>\n",
       "  </thead>\n",
       "  <tbody>\n",
       "    <tr>\n",
       "      <th>0</th>\n",
       "      <td>0.309792</td>\n",
       "      <td>0.361865</td>\n",
       "      <td>0.778914</td>\n",
       "      <td>0.000000</td>\n",
       "      <td>0.837838</td>\n",
       "      <td>0.330861</td>\n",
       "    </tr>\n",
       "    <tr>\n",
       "      <th>1</th>\n",
       "      <td>0.315134</td>\n",
       "      <td>0.428671</td>\n",
       "      <td>0.753074</td>\n",
       "      <td>0.000000</td>\n",
       "      <td>0.925676</td>\n",
       "      <td>0.129080</td>\n",
       "    </tr>\n",
       "    <tr>\n",
       "      <th>2</th>\n",
       "      <td>0.312166</td>\n",
       "      <td>0.309673</td>\n",
       "      <td>0.717701</td>\n",
       "      <td>0.000000</td>\n",
       "      <td>0.885135</td>\n",
       "      <td>0.246291</td>\n",
       "    </tr>\n",
       "    <tr>\n",
       "      <th>3</th>\n",
       "      <td>0.233828</td>\n",
       "      <td>0.203201</td>\n",
       "      <td>0.692690</td>\n",
       "      <td>0.000000</td>\n",
       "      <td>0.790541</td>\n",
       "      <td>0.252226</td>\n",
       "    </tr>\n",
       "    <tr>\n",
       "      <th>4</th>\n",
       "      <td>0.299110</td>\n",
       "      <td>0.082116</td>\n",
       "      <td>0.610612</td>\n",
       "      <td>0.000000</td>\n",
       "      <td>0.756757</td>\n",
       "      <td>0.270030</td>\n",
       "    </tr>\n",
       "    <tr>\n",
       "      <th>...</th>\n",
       "      <td>...</td>\n",
       "      <td>...</td>\n",
       "      <td>...</td>\n",
       "      <td>...</td>\n",
       "      <td>...</td>\n",
       "      <td>...</td>\n",
       "    </tr>\n",
       "    <tr>\n",
       "      <th>621</th>\n",
       "      <td>0.177448</td>\n",
       "      <td>0.780793</td>\n",
       "      <td>0.924969</td>\n",
       "      <td>0.122698</td>\n",
       "      <td>0.310811</td>\n",
       "      <td>0.403561</td>\n",
       "    </tr>\n",
       "    <tr>\n",
       "      <th>622</th>\n",
       "      <td>0.277745</td>\n",
       "      <td>0.757133</td>\n",
       "      <td>0.883515</td>\n",
       "      <td>0.067460</td>\n",
       "      <td>0.364865</td>\n",
       "      <td>0.572700</td>\n",
       "    </tr>\n",
       "    <tr>\n",
       "      <th>623</th>\n",
       "      <td>0.262908</td>\n",
       "      <td>0.717467</td>\n",
       "      <td>0.886970</td>\n",
       "      <td>0.016620</td>\n",
       "      <td>0.459459</td>\n",
       "      <td>0.531157</td>\n",
       "    </tr>\n",
       "    <tr>\n",
       "      <th>624</th>\n",
       "      <td>0.218398</td>\n",
       "      <td>0.685456</td>\n",
       "      <td>0.893050</td>\n",
       "      <td>0.009288</td>\n",
       "      <td>0.472973</td>\n",
       "      <td>0.483680</td>\n",
       "    </tr>\n",
       "    <tr>\n",
       "      <th>625</th>\n",
       "      <td>0.280119</td>\n",
       "      <td>0.683368</td>\n",
       "      <td>0.872323</td>\n",
       "      <td>0.002118</td>\n",
       "      <td>0.472973</td>\n",
       "      <td>0.443620</td>\n",
       "    </tr>\n",
       "  </tbody>\n",
       "</table>\n",
       "<p>626 rows × 6 columns</p>\n",
       "</div>"
      ],
      "text/plain": [
       "            0         1         2         3         4         5\n",
       "0    0.309792  0.361865  0.778914  0.000000  0.837838  0.330861\n",
       "1    0.315134  0.428671  0.753074  0.000000  0.925676  0.129080\n",
       "2    0.312166  0.309673  0.717701  0.000000  0.885135  0.246291\n",
       "3    0.233828  0.203201  0.692690  0.000000  0.790541  0.252226\n",
       "4    0.299110  0.082116  0.610612  0.000000  0.756757  0.270030\n",
       "..        ...       ...       ...       ...       ...       ...\n",
       "621  0.177448  0.780793  0.924969  0.122698  0.310811  0.403561\n",
       "622  0.277745  0.757133  0.883515  0.067460  0.364865  0.572700\n",
       "623  0.262908  0.717467  0.886970  0.016620  0.459459  0.531157\n",
       "624  0.218398  0.685456  0.893050  0.009288  0.472973  0.483680\n",
       "625  0.280119  0.683368  0.872323  0.002118  0.472973  0.443620\n",
       "\n",
       "[626 rows x 6 columns]"
      ]
     },
     "execution_count": 12,
     "metadata": {},
     "output_type": "execute_result"
    }
   ],
   "source": [
    "pd.DataFrame(x_train)"
   ]
  },
  {
   "cell_type": "code",
   "execution_count": 13,
   "id": "451a2edb",
   "metadata": {
    "execution": {
     "iopub.execute_input": "2023-08-17T10:25:53.083059Z",
     "iopub.status.busy": "2023-08-17T10:25:53.082404Z",
     "iopub.status.idle": "2023-08-17T10:25:53.096896Z",
     "shell.execute_reply": "2023-08-17T10:25:53.095941Z"
    }
   },
   "outputs": [
    {
     "data": {
      "text/html": [
       "<div>\n",
       "<style scoped>\n",
       "    .dataframe tbody tr th:only-of-type {\n",
       "        vertical-align: middle;\n",
       "    }\n",
       "\n",
       "    .dataframe tbody tr th {\n",
       "        vertical-align: top;\n",
       "    }\n",
       "\n",
       "    .dataframe thead th {\n",
       "        text-align: right;\n",
       "    }\n",
       "</style>\n",
       "<table border=\"1\" class=\"dataframe\">\n",
       "  <thead>\n",
       "    <tr style=\"text-align: right;\">\n",
       "      <th></th>\n",
       "      <th>0</th>\n",
       "      <th>1</th>\n",
       "      <th>2</th>\n",
       "      <th>3</th>\n",
       "      <th>4</th>\n",
       "      <th>5</th>\n",
       "    </tr>\n",
       "  </thead>\n",
       "  <tbody>\n",
       "    <tr>\n",
       "      <th>0</th>\n",
       "      <td>0.315134</td>\n",
       "      <td>0.428671</td>\n",
       "      <td>0.753074</td>\n",
       "      <td>0.000000</td>\n",
       "      <td>0.925676</td>\n",
       "      <td>0.129080</td>\n",
       "    </tr>\n",
       "    <tr>\n",
       "      <th>1</th>\n",
       "      <td>0.312166</td>\n",
       "      <td>0.309673</td>\n",
       "      <td>0.717701</td>\n",
       "      <td>0.000000</td>\n",
       "      <td>0.885135</td>\n",
       "      <td>0.246291</td>\n",
       "    </tr>\n",
       "    <tr>\n",
       "      <th>2</th>\n",
       "      <td>0.233828</td>\n",
       "      <td>0.203201</td>\n",
       "      <td>0.692690</td>\n",
       "      <td>0.000000</td>\n",
       "      <td>0.790541</td>\n",
       "      <td>0.252226</td>\n",
       "    </tr>\n",
       "    <tr>\n",
       "      <th>3</th>\n",
       "      <td>0.299110</td>\n",
       "      <td>0.082116</td>\n",
       "      <td>0.610612</td>\n",
       "      <td>0.000000</td>\n",
       "      <td>0.756757</td>\n",
       "      <td>0.270030</td>\n",
       "    </tr>\n",
       "    <tr>\n",
       "      <th>4</th>\n",
       "      <td>0.304451</td>\n",
       "      <td>0.425191</td>\n",
       "      <td>0.734973</td>\n",
       "      <td>0.000000</td>\n",
       "      <td>0.864865</td>\n",
       "      <td>0.654303</td>\n",
       "    </tr>\n",
       "    <tr>\n",
       "      <th>...</th>\n",
       "      <td>...</td>\n",
       "      <td>...</td>\n",
       "      <td>...</td>\n",
       "      <td>...</td>\n",
       "      <td>...</td>\n",
       "      <td>...</td>\n",
       "    </tr>\n",
       "    <tr>\n",
       "      <th>621</th>\n",
       "      <td>0.277745</td>\n",
       "      <td>0.757133</td>\n",
       "      <td>0.883515</td>\n",
       "      <td>0.067460</td>\n",
       "      <td>0.364865</td>\n",
       "      <td>0.572700</td>\n",
       "    </tr>\n",
       "    <tr>\n",
       "      <th>622</th>\n",
       "      <td>0.262908</td>\n",
       "      <td>0.717467</td>\n",
       "      <td>0.886970</td>\n",
       "      <td>0.016620</td>\n",
       "      <td>0.459459</td>\n",
       "      <td>0.531157</td>\n",
       "    </tr>\n",
       "    <tr>\n",
       "      <th>623</th>\n",
       "      <td>0.218398</td>\n",
       "      <td>0.685456</td>\n",
       "      <td>0.893050</td>\n",
       "      <td>0.009288</td>\n",
       "      <td>0.472973</td>\n",
       "      <td>0.483680</td>\n",
       "    </tr>\n",
       "    <tr>\n",
       "      <th>624</th>\n",
       "      <td>0.280119</td>\n",
       "      <td>0.683368</td>\n",
       "      <td>0.872323</td>\n",
       "      <td>0.002118</td>\n",
       "      <td>0.472973</td>\n",
       "      <td>0.443620</td>\n",
       "    </tr>\n",
       "    <tr>\n",
       "      <th>625</th>\n",
       "      <td>0.306231</td>\n",
       "      <td>0.631872</td>\n",
       "      <td>0.847174</td>\n",
       "      <td>0.000000</td>\n",
       "      <td>0.574324</td>\n",
       "      <td>0.252226</td>\n",
       "    </tr>\n",
       "  </tbody>\n",
       "</table>\n",
       "<p>626 rows × 6 columns</p>\n",
       "</div>"
      ],
      "text/plain": [
       "            0         1         2         3         4         5\n",
       "0    0.315134  0.428671  0.753074  0.000000  0.925676  0.129080\n",
       "1    0.312166  0.309673  0.717701  0.000000  0.885135  0.246291\n",
       "2    0.233828  0.203201  0.692690  0.000000  0.790541  0.252226\n",
       "3    0.299110  0.082116  0.610612  0.000000  0.756757  0.270030\n",
       "4    0.304451  0.425191  0.734973  0.000000  0.864865  0.654303\n",
       "..        ...       ...       ...       ...       ...       ...\n",
       "621  0.277745  0.757133  0.883515  0.067460  0.364865  0.572700\n",
       "622  0.262908  0.717467  0.886970  0.016620  0.459459  0.531157\n",
       "623  0.218398  0.685456  0.893050  0.009288  0.472973  0.483680\n",
       "624  0.280119  0.683368  0.872323  0.002118  0.472973  0.443620\n",
       "625  0.306231  0.631872  0.847174  0.000000  0.574324  0.252226\n",
       "\n",
       "[626 rows x 6 columns]"
      ]
     },
     "execution_count": 13,
     "metadata": {},
     "output_type": "execute_result"
    }
   ],
   "source": [
    "pd.DataFrame(y_train)"
   ]
  },
  {
   "cell_type": "code",
   "execution_count": 14,
   "id": "33f52585",
   "metadata": {
    "execution": {
     "iopub.execute_input": "2023-08-17T10:25:53.100445Z",
     "iopub.status.busy": "2023-08-17T10:25:53.099798Z",
     "iopub.status.idle": "2023-08-17T10:25:53.106990Z",
     "shell.execute_reply": "2023-08-17T10:25:53.106055Z"
    }
   },
   "outputs": [
    {
     "data": {
      "text/plain": [
       "((626, 6), (626, 6), (104, 6), (104, 6))"
      ]
     },
     "execution_count": 14,
     "metadata": {},
     "output_type": "execute_result"
    }
   ],
   "source": [
    "x_train, y_train = np.array(x_train), np.array(y_train)\n",
    "x_test, y_test = np.array(x_test), np.array(y_test)\n",
    "x_train.shape, y_train.shape, x_test.shape, y_test.shape"
   ]
  },
  {
   "cell_type": "code",
   "execution_count": 15,
   "id": "6bce362e",
   "metadata": {
    "execution": {
     "iopub.execute_input": "2023-08-17T10:25:53.110158Z",
     "iopub.status.busy": "2023-08-17T10:25:53.109903Z",
     "iopub.status.idle": "2023-08-17T10:25:55.433072Z",
     "shell.execute_reply": "2023-08-17T10:25:55.432154Z"
    }
   },
   "outputs": [
    {
     "name": "stderr",
     "output_type": "stream",
     "text": [
      "2023-08-17 15:55:53.423353: I tensorflow/tsl/cuda/cudart_stub.cc:28] Could not find cuda drivers on your machine, GPU will not be used.\n",
      "2023-08-17 15:55:53.475298: I tensorflow/tsl/cuda/cudart_stub.cc:28] Could not find cuda drivers on your machine, GPU will not be used.\n",
      "2023-08-17 15:55:53.476414: I tensorflow/core/platform/cpu_feature_guard.cc:182] This TensorFlow binary is optimized to use available CPU instructions in performance-critical operations.\n",
      "To enable the following instructions: AVX2, in other operations, rebuild TensorFlow with the appropriate compiler flags.\n",
      "2023-08-17 15:55:54.553640: W tensorflow/compiler/tf2tensorrt/utils/py_utils.cc:38] TF-TRT Warning: Could not find TensorRT\n"
     ]
    }
   ],
   "source": [
    "from keras.models import Sequential\n",
    "from keras.layers import Dense, Activation\n",
    "from keras.optimizers import Adam\n",
    "from keras.models import load_model\n",
    "from keras.layers import Dropout"
   ]
  },
  {
   "cell_type": "code",
   "execution_count": 16,
   "id": "13e73d90",
   "metadata": {
    "execution": {
     "iopub.execute_input": "2023-08-17T10:25:55.437752Z",
     "iopub.status.busy": "2023-08-17T10:25:55.437023Z",
     "iopub.status.idle": "2023-08-17T10:25:55.570921Z",
     "shell.execute_reply": "2023-08-17T10:25:55.569805Z"
    }
   },
   "outputs": [
    {
     "name": "stdout",
     "output_type": "stream",
     "text": [
      "Model: \"sequential\"\n",
      "_________________________________________________________________\n",
      " Layer (type)                Output Shape              Param #   \n",
      "=================================================================\n",
      " dense (Dense)               (None, 8)                 56        \n",
      "                                                                 \n",
      " dense_1 (Dense)             (None, 8)                 72        \n",
      "                                                                 \n",
      " dense_2 (Dense)             (None, 6)                 54        \n",
      "                                                                 \n",
      "=================================================================\n",
      "Total params: 182 (728.00 Byte)\n",
      "Trainable params: 182 (728.00 Byte)\n",
      "Non-trainable params: 0 (0.00 Byte)\n",
      "_________________________________________________________________\n"
     ]
    }
   ],
   "source": [
    "model = Sequential()\n",
    "model.add(Dense(8, input_dim = 6, activation = 'relu'))\n",
    "model.add(Dense(8, activation='relu'))\n",
    "model.add(Dense(6))\n",
    "\n",
    "model.summary()\n",
    "model.compile(optimizer = 'adam', loss = 'mse', metrics = ['accuracy'])"
   ]
  },
  {
   "cell_type": "code",
   "execution_count": 17,
   "id": "aaba0d65",
   "metadata": {
    "execution": {
     "iopub.execute_input": "2023-08-17T10:25:55.574817Z",
     "iopub.status.busy": "2023-08-17T10:25:55.574511Z",
     "iopub.status.idle": "2023-08-17T10:26:09.190353Z",
     "shell.execute_reply": "2023-08-17T10:26:09.189318Z"
    }
   },
   "outputs": [
    {
     "name": "stdout",
     "output_type": "stream",
     "text": [
      "Epoch 1/100\n",
      "42/42 [==============================] - 1s 7ms/step - loss: 0.5750 - accuracy: 0.1949 - val_loss: 0.4247 - val_accuracy: 0.0000e+00\n",
      "Epoch 2/100\n",
      "42/42 [==============================] - 0s 3ms/step - loss: 0.2547 - accuracy: 0.1565 - val_loss: 0.2162 - val_accuracy: 0.0000e+00\n",
      "Epoch 3/100\n",
      "42/42 [==============================] - 0s 3ms/step - loss: 0.1551 - accuracy: 0.1454 - val_loss: 0.1312 - val_accuracy: 0.0000e+00\n",
      "Epoch 4/100\n",
      "42/42 [==============================] - 0s 3ms/step - loss: 0.1022 - accuracy: 0.1949 - val_loss: 0.0835 - val_accuracy: 0.1731\n",
      "Epoch 5/100\n",
      "42/42 [==============================] - 0s 3ms/step - loss: 0.0724 - accuracy: 0.2236 - val_loss: 0.0597 - val_accuracy: 0.1250\n",
      "Epoch 6/100\n",
      "42/42 [==============================] - 0s 3ms/step - loss: 0.0565 - accuracy: 0.2236 - val_loss: 0.0475 - val_accuracy: 0.1058\n",
      "Epoch 7/100\n",
      "42/42 [==============================] - 0s 3ms/step - loss: 0.0486 - accuracy: 0.3323 - val_loss: 0.0412 - val_accuracy: 0.2115\n",
      "Epoch 8/100\n",
      "42/42 [==============================] - 0s 3ms/step - loss: 0.0443 - accuracy: 0.4185 - val_loss: 0.0374 - val_accuracy: 0.2692\n",
      "Epoch 9/100\n",
      "42/42 [==============================] - 0s 3ms/step - loss: 0.0415 - accuracy: 0.4393 - val_loss: 0.0346 - val_accuracy: 0.3173\n",
      "Epoch 10/100\n",
      "42/42 [==============================] - 0s 3ms/step - loss: 0.0391 - accuracy: 0.4776 - val_loss: 0.0324 - val_accuracy: 0.3462\n",
      "Epoch 11/100\n",
      "42/42 [==============================] - 0s 3ms/step - loss: 0.0370 - accuracy: 0.5160 - val_loss: 0.0307 - val_accuracy: 0.4038\n",
      "Epoch 12/100\n",
      "42/42 [==============================] - 0s 3ms/step - loss: 0.0351 - accuracy: 0.5304 - val_loss: 0.0294 - val_accuracy: 0.4231\n",
      "Epoch 13/100\n",
      "42/42 [==============================] - 0s 3ms/step - loss: 0.0335 - accuracy: 0.5367 - val_loss: 0.0282 - val_accuracy: 0.4519\n",
      "Epoch 14/100\n",
      "42/42 [==============================] - 0s 3ms/step - loss: 0.0319 - accuracy: 0.5319 - val_loss: 0.0271 - val_accuracy: 0.4808\n",
      "Epoch 15/100\n",
      "42/42 [==============================] - 0s 3ms/step - loss: 0.0304 - accuracy: 0.5447 - val_loss: 0.0262 - val_accuracy: 0.5288\n",
      "Epoch 16/100\n",
      "42/42 [==============================] - 0s 3ms/step - loss: 0.0290 - accuracy: 0.5575 - val_loss: 0.0255 - val_accuracy: 0.5865\n",
      "Epoch 17/100\n",
      "42/42 [==============================] - 0s 3ms/step - loss: 0.0278 - accuracy: 0.5703 - val_loss: 0.0248 - val_accuracy: 0.6250\n",
      "Epoch 18/100\n",
      "42/42 [==============================] - 0s 3ms/step - loss: 0.0268 - accuracy: 0.5815 - val_loss: 0.0241 - val_accuracy: 0.6635\n",
      "Epoch 19/100\n",
      "42/42 [==============================] - 0s 3ms/step - loss: 0.0258 - accuracy: 0.6006 - val_loss: 0.0236 - val_accuracy: 0.6827\n",
      "Epoch 20/100\n",
      "42/42 [==============================] - 0s 3ms/step - loss: 0.0249 - accuracy: 0.6118 - val_loss: 0.0232 - val_accuracy: 0.7019\n",
      "Epoch 21/100\n",
      "42/42 [==============================] - 0s 3ms/step - loss: 0.0242 - accuracy: 0.6166 - val_loss: 0.0229 - val_accuracy: 0.7212\n",
      "Epoch 22/100\n",
      "42/42 [==============================] - 0s 3ms/step - loss: 0.0235 - accuracy: 0.6230 - val_loss: 0.0225 - val_accuracy: 0.7308\n",
      "Epoch 23/100\n",
      "42/42 [==============================] - 0s 3ms/step - loss: 0.0230 - accuracy: 0.6278 - val_loss: 0.0223 - val_accuracy: 0.7500\n",
      "Epoch 24/100\n",
      "42/42 [==============================] - 0s 3ms/step - loss: 0.0224 - accuracy: 0.6310 - val_loss: 0.0220 - val_accuracy: 0.7500\n",
      "Epoch 25/100\n",
      "42/42 [==============================] - 0s 3ms/step - loss: 0.0220 - accuracy: 0.6326 - val_loss: 0.0218 - val_accuracy: 0.7500\n",
      "Epoch 26/100\n",
      "42/42 [==============================] - 0s 3ms/step - loss: 0.0216 - accuracy: 0.6310 - val_loss: 0.0216 - val_accuracy: 0.7500\n",
      "Epoch 27/100\n",
      "42/42 [==============================] - 0s 3ms/step - loss: 0.0213 - accuracy: 0.6342 - val_loss: 0.0214 - val_accuracy: 0.7500\n",
      "Epoch 28/100\n",
      "42/42 [==============================] - 0s 3ms/step - loss: 0.0210 - accuracy: 0.6326 - val_loss: 0.0212 - val_accuracy: 0.7500\n",
      "Epoch 29/100\n",
      "42/42 [==============================] - 0s 3ms/step - loss: 0.0208 - accuracy: 0.6406 - val_loss: 0.0211 - val_accuracy: 0.7500\n",
      "Epoch 30/100\n",
      "42/42 [==============================] - 0s 3ms/step - loss: 0.0205 - accuracy: 0.6406 - val_loss: 0.0209 - val_accuracy: 0.7500\n",
      "Epoch 31/100\n",
      "42/42 [==============================] - 0s 3ms/step - loss: 0.0204 - accuracy: 0.6422 - val_loss: 0.0208 - val_accuracy: 0.7500\n",
      "Epoch 32/100\n",
      "42/42 [==============================] - 0s 3ms/step - loss: 0.0202 - accuracy: 0.6454 - val_loss: 0.0207 - val_accuracy: 0.7500\n",
      "Epoch 33/100\n",
      "42/42 [==============================] - 0s 3ms/step - loss: 0.0201 - accuracy: 0.6470 - val_loss: 0.0206 - val_accuracy: 0.7500\n",
      "Epoch 34/100\n",
      "42/42 [==============================] - 0s 3ms/step - loss: 0.0199 - accuracy: 0.6486 - val_loss: 0.0205 - val_accuracy: 0.7500\n",
      "Epoch 35/100\n",
      "42/42 [==============================] - 0s 3ms/step - loss: 0.0198 - accuracy: 0.6486 - val_loss: 0.0205 - val_accuracy: 0.7500\n",
      "Epoch 36/100\n",
      "42/42 [==============================] - 0s 3ms/step - loss: 0.0197 - accuracy: 0.6470 - val_loss: 0.0204 - val_accuracy: 0.7500\n",
      "Epoch 37/100\n",
      "42/42 [==============================] - 0s 3ms/step - loss: 0.0196 - accuracy: 0.6486 - val_loss: 0.0203 - val_accuracy: 0.7500\n",
      "Epoch 38/100\n",
      "42/42 [==============================] - 0s 3ms/step - loss: 0.0196 - accuracy: 0.6486 - val_loss: 0.0203 - val_accuracy: 0.7500\n",
      "Epoch 39/100\n",
      "42/42 [==============================] - 0s 3ms/step - loss: 0.0195 - accuracy: 0.6486 - val_loss: 0.0202 - val_accuracy: 0.7500\n",
      "Epoch 40/100\n",
      "42/42 [==============================] - 0s 3ms/step - loss: 0.0194 - accuracy: 0.6502 - val_loss: 0.0201 - val_accuracy: 0.7500\n",
      "Epoch 41/100\n",
      "42/42 [==============================] - 0s 3ms/step - loss: 0.0193 - accuracy: 0.6534 - val_loss: 0.0201 - val_accuracy: 0.7500\n",
      "Epoch 42/100\n",
      "42/42 [==============================] - 0s 3ms/step - loss: 0.0192 - accuracy: 0.6550 - val_loss: 0.0200 - val_accuracy: 0.7500\n",
      "Epoch 43/100\n",
      "42/42 [==============================] - 0s 3ms/step - loss: 0.0192 - accuracy: 0.6550 - val_loss: 0.0199 - val_accuracy: 0.7500\n",
      "Epoch 44/100\n",
      "42/42 [==============================] - 0s 3ms/step - loss: 0.0191 - accuracy: 0.6550 - val_loss: 0.0199 - val_accuracy: 0.7500\n",
      "Epoch 45/100\n",
      "42/42 [==============================] - 0s 3ms/step - loss: 0.0190 - accuracy: 0.6597 - val_loss: 0.0198 - val_accuracy: 0.7500\n",
      "Epoch 46/100\n",
      "42/42 [==============================] - 0s 3ms/step - loss: 0.0189 - accuracy: 0.6613 - val_loss: 0.0197 - val_accuracy: 0.7500\n",
      "Epoch 47/100\n",
      "42/42 [==============================] - 0s 3ms/step - loss: 0.0189 - accuracy: 0.6661 - val_loss: 0.0196 - val_accuracy: 0.7500\n",
      "Epoch 48/100\n",
      "42/42 [==============================] - 0s 3ms/step - loss: 0.0188 - accuracy: 0.6661 - val_loss: 0.0196 - val_accuracy: 0.7500\n",
      "Epoch 49/100\n",
      "42/42 [==============================] - 0s 3ms/step - loss: 0.0187 - accuracy: 0.6677 - val_loss: 0.0195 - val_accuracy: 0.7500\n",
      "Epoch 50/100\n",
      "42/42 [==============================] - 0s 3ms/step - loss: 0.0186 - accuracy: 0.6693 - val_loss: 0.0194 - val_accuracy: 0.7500\n",
      "Epoch 51/100\n",
      "42/42 [==============================] - 0s 3ms/step - loss: 0.0185 - accuracy: 0.6709 - val_loss: 0.0193 - val_accuracy: 0.7500\n",
      "Epoch 52/100\n",
      "42/42 [==============================] - 0s 3ms/step - loss: 0.0184 - accuracy: 0.6725 - val_loss: 0.0192 - val_accuracy: 0.7500\n",
      "Epoch 53/100\n",
      "42/42 [==============================] - 0s 3ms/step - loss: 0.0183 - accuracy: 0.6757 - val_loss: 0.0191 - val_accuracy: 0.7500\n",
      "Epoch 54/100\n",
      "42/42 [==============================] - 0s 3ms/step - loss: 0.0182 - accuracy: 0.6773 - val_loss: 0.0190 - val_accuracy: 0.7500\n",
      "Epoch 55/100\n",
      "42/42 [==============================] - 0s 3ms/step - loss: 0.0181 - accuracy: 0.6805 - val_loss: 0.0189 - val_accuracy: 0.7500\n",
      "Epoch 56/100\n",
      "42/42 [==============================] - 0s 3ms/step - loss: 0.0180 - accuracy: 0.6821 - val_loss: 0.0188 - val_accuracy: 0.7500\n",
      "Epoch 57/100\n",
      "42/42 [==============================] - 0s 3ms/step - loss: 0.0179 - accuracy: 0.6821 - val_loss: 0.0186 - val_accuracy: 0.7500\n",
      "Epoch 58/100\n",
      "42/42 [==============================] - 0s 3ms/step - loss: 0.0178 - accuracy: 0.6821 - val_loss: 0.0185 - val_accuracy: 0.7500\n",
      "Epoch 59/100\n",
      "42/42 [==============================] - 0s 3ms/step - loss: 0.0177 - accuracy: 0.6885 - val_loss: 0.0184 - val_accuracy: 0.7500\n",
      "Epoch 60/100\n",
      "42/42 [==============================] - 0s 3ms/step - loss: 0.0175 - accuracy: 0.6949 - val_loss: 0.0182 - val_accuracy: 0.7500\n",
      "Epoch 61/100\n",
      "42/42 [==============================] - 0s 3ms/step - loss: 0.0174 - accuracy: 0.6965 - val_loss: 0.0181 - val_accuracy: 0.7500\n",
      "Epoch 62/100\n",
      "42/42 [==============================] - 0s 3ms/step - loss: 0.0173 - accuracy: 0.6965 - val_loss: 0.0179 - val_accuracy: 0.7500\n",
      "Epoch 63/100\n",
      "42/42 [==============================] - 0s 3ms/step - loss: 0.0171 - accuracy: 0.7013 - val_loss: 0.0177 - val_accuracy: 0.7500\n",
      "Epoch 64/100\n",
      "42/42 [==============================] - 0s 3ms/step - loss: 0.0169 - accuracy: 0.7045 - val_loss: 0.0175 - val_accuracy: 0.7500\n",
      "Epoch 65/100\n",
      "42/42 [==============================] - 0s 3ms/step - loss: 0.0168 - accuracy: 0.7061 - val_loss: 0.0173 - val_accuracy: 0.7500\n",
      "Epoch 66/100\n",
      "42/42 [==============================] - 0s 3ms/step - loss: 0.0166 - accuracy: 0.7077 - val_loss: 0.0171 - val_accuracy: 0.7500\n",
      "Epoch 67/100\n",
      "42/42 [==============================] - 0s 3ms/step - loss: 0.0164 - accuracy: 0.7077 - val_loss: 0.0169 - val_accuracy: 0.7500\n",
      "Epoch 68/100\n",
      "42/42 [==============================] - 0s 3ms/step - loss: 0.0162 - accuracy: 0.7093 - val_loss: 0.0167 - val_accuracy: 0.7500\n",
      "Epoch 69/100\n",
      "42/42 [==============================] - 0s 3ms/step - loss: 0.0161 - accuracy: 0.7093 - val_loss: 0.0165 - val_accuracy: 0.7500\n",
      "Epoch 70/100\n",
      "42/42 [==============================] - 0s 3ms/step - loss: 0.0159 - accuracy: 0.7125 - val_loss: 0.0162 - val_accuracy: 0.7500\n",
      "Epoch 71/100\n",
      "42/42 [==============================] - 0s 3ms/step - loss: 0.0156 - accuracy: 0.7157 - val_loss: 0.0160 - val_accuracy: 0.7500\n",
      "Epoch 72/100\n",
      "42/42 [==============================] - 0s 3ms/step - loss: 0.0154 - accuracy: 0.7173 - val_loss: 0.0157 - val_accuracy: 0.7500\n",
      "Epoch 73/100\n",
      "42/42 [==============================] - 0s 3ms/step - loss: 0.0152 - accuracy: 0.7188 - val_loss: 0.0154 - val_accuracy: 0.7500\n",
      "Epoch 74/100\n",
      "42/42 [==============================] - 0s 3ms/step - loss: 0.0150 - accuracy: 0.7236 - val_loss: 0.0151 - val_accuracy: 0.7500\n",
      "Epoch 75/100\n",
      "42/42 [==============================] - 0s 3ms/step - loss: 0.0147 - accuracy: 0.7268 - val_loss: 0.0148 - val_accuracy: 0.7500\n",
      "Epoch 76/100\n",
      "42/42 [==============================] - 0s 3ms/step - loss: 0.0145 - accuracy: 0.7300 - val_loss: 0.0145 - val_accuracy: 0.7500\n",
      "Epoch 77/100\n",
      "42/42 [==============================] - 0s 3ms/step - loss: 0.0143 - accuracy: 0.7332 - val_loss: 0.0143 - val_accuracy: 0.7500\n",
      "Epoch 78/100\n",
      "42/42 [==============================] - 0s 3ms/step - loss: 0.0140 - accuracy: 0.7444 - val_loss: 0.0139 - val_accuracy: 0.7500\n",
      "Epoch 79/100\n",
      "42/42 [==============================] - 0s 3ms/step - loss: 0.0138 - accuracy: 0.7460 - val_loss: 0.0137 - val_accuracy: 0.7500\n",
      "Epoch 80/100\n",
      "42/42 [==============================] - 0s 3ms/step - loss: 0.0135 - accuracy: 0.7492 - val_loss: 0.0134 - val_accuracy: 0.7500\n",
      "Epoch 81/100\n",
      "42/42 [==============================] - 0s 3ms/step - loss: 0.0133 - accuracy: 0.7524 - val_loss: 0.0131 - val_accuracy: 0.7500\n",
      "Epoch 82/100\n",
      "42/42 [==============================] - 0s 3ms/step - loss: 0.0130 - accuracy: 0.7556 - val_loss: 0.0128 - val_accuracy: 0.7500\n",
      "Epoch 83/100\n",
      "42/42 [==============================] - 0s 3ms/step - loss: 0.0128 - accuracy: 0.7572 - val_loss: 0.0125 - val_accuracy: 0.7500\n",
      "Epoch 84/100\n",
      "42/42 [==============================] - 0s 3ms/step - loss: 0.0126 - accuracy: 0.7572 - val_loss: 0.0122 - val_accuracy: 0.7500\n",
      "Epoch 85/100\n",
      "42/42 [==============================] - 0s 3ms/step - loss: 0.0123 - accuracy: 0.7636 - val_loss: 0.0119 - val_accuracy: 0.7500\n",
      "Epoch 86/100\n",
      "42/42 [==============================] - 0s 3ms/step - loss: 0.0121 - accuracy: 0.7652 - val_loss: 0.0116 - val_accuracy: 0.7500\n",
      "Epoch 87/100\n",
      "42/42 [==============================] - 0s 3ms/step - loss: 0.0119 - accuracy: 0.7668 - val_loss: 0.0114 - val_accuracy: 0.7500\n",
      "Epoch 88/100\n",
      "42/42 [==============================] - 0s 3ms/step - loss: 0.0117 - accuracy: 0.7700 - val_loss: 0.0111 - val_accuracy: 0.7500\n",
      "Epoch 89/100\n",
      "42/42 [==============================] - 0s 3ms/step - loss: 0.0115 - accuracy: 0.7748 - val_loss: 0.0109 - val_accuracy: 0.7596\n",
      "Epoch 90/100\n",
      "42/42 [==============================] - 0s 3ms/step - loss: 0.0113 - accuracy: 0.7796 - val_loss: 0.0106 - val_accuracy: 0.7788\n",
      "Epoch 91/100\n",
      "42/42 [==============================] - 0s 3ms/step - loss: 0.0111 - accuracy: 0.7827 - val_loss: 0.0104 - val_accuracy: 0.7788\n",
      "Epoch 92/100\n",
      "42/42 [==============================] - 0s 3ms/step - loss: 0.0109 - accuracy: 0.7875 - val_loss: 0.0102 - val_accuracy: 0.7885\n",
      "Epoch 93/100\n",
      "42/42 [==============================] - 0s 3ms/step - loss: 0.0108 - accuracy: 0.7875 - val_loss: 0.0100 - val_accuracy: 0.7981\n",
      "Epoch 94/100\n",
      "42/42 [==============================] - 0s 3ms/step - loss: 0.0106 - accuracy: 0.7939 - val_loss: 0.0099 - val_accuracy: 0.8269\n",
      "Epoch 95/100\n",
      "42/42 [==============================] - 0s 3ms/step - loss: 0.0105 - accuracy: 0.8019 - val_loss: 0.0097 - val_accuracy: 0.8365\n",
      "Epoch 96/100\n",
      "42/42 [==============================] - 0s 3ms/step - loss: 0.0104 - accuracy: 0.8035 - val_loss: 0.0096 - val_accuracy: 0.8558\n",
      "Epoch 97/100\n",
      "42/42 [==============================] - 0s 3ms/step - loss: 0.0102 - accuracy: 0.8147 - val_loss: 0.0094 - val_accuracy: 0.8654\n",
      "Epoch 98/100\n",
      "42/42 [==============================] - 0s 3ms/step - loss: 0.0101 - accuracy: 0.8163 - val_loss: 0.0093 - val_accuracy: 0.8654\n",
      "Epoch 99/100\n",
      "42/42 [==============================] - 0s 3ms/step - loss: 0.0100 - accuracy: 0.8195 - val_loss: 0.0092 - val_accuracy: 0.8654\n",
      "Epoch 100/100\n",
      "42/42 [==============================] - 0s 3ms/step - loss: 0.0099 - accuracy: 0.8179 - val_loss: 0.0091 - val_accuracy: 0.8750\n"
     ]
    }
   ],
   "source": [
    "\n",
    "history = model.fit(x_train, y_train, validation_data = (x_test, y_test), epochs = 100, batch_size = 15, shuffle = False)"
   ]
  },
  {
   "cell_type": "code",
   "execution_count": 18,
   "id": "dd952a8e",
   "metadata": {
    "execution": {
     "iopub.execute_input": "2023-08-17T10:26:09.193729Z",
     "iopub.status.busy": "2023-08-17T10:26:09.193379Z",
     "iopub.status.idle": "2023-08-17T10:26:09.326285Z",
     "shell.execute_reply": "2023-08-17T10:26:09.325231Z"
    }
   },
   "outputs": [
    {
     "name": "stdout",
     "output_type": "stream",
     "text": [
      "Model Saved to disk\n",
      "Model: \"sequential\"\n",
      "_________________________________________________________________\n",
      " Layer (type)                Output Shape              Param #   \n",
      "=================================================================\n",
      " dense (Dense)               (None, 8)                 56        \n",
      "                                                                 \n",
      " dense_1 (Dense)             (None, 8)                 72        \n",
      "                                                                 \n",
      " dense_2 (Dense)             (None, 6)                 54        \n",
      "                                                                 \n",
      "=================================================================\n",
      "Total params: 182 (728.00 Byte)\n",
      "Trainable params: 182 (728.00 Byte)\n",
      "Non-trainable params: 0 (0.00 Byte)\n",
      "_________________________________________________________________\n"
     ]
    },
    {
     "name": "stderr",
     "output_type": "stream",
     "text": [
      "/home/manhera/.local/lib/python3.11/site-packages/keras/src/engine/training.py:3000: UserWarning: You are saving your model as an HDF5 file via `model.save()`. This file format is considered legacy. We recommend using instead the native Keras format, e.g. `model.save('my_model.keras')`.\n",
      "  saving_api.save_model(\n"
     ]
    }
   ],
   "source": [
    "model.save(\"model.h5\")\n",
    "print(\"Model Saved to disk\")\n",
    "model = load_model(\"model.h5\")\n",
    "model.summary()"
   ]
  },
  {
   "cell_type": "code",
   "execution_count": 19,
   "id": "e19f6794",
   "metadata": {
    "execution": {
     "iopub.execute_input": "2023-08-17T10:26:09.330503Z",
     "iopub.status.busy": "2023-08-17T10:26:09.330214Z",
     "iopub.status.idle": "2023-08-17T10:26:09.490816Z",
     "shell.execute_reply": "2023-08-17T10:26:09.489933Z"
    }
   },
   "outputs": [
    {
     "name": "stdout",
     "output_type": "stream",
     "text": [
      "4/4 [==============================] - 0s 2ms/step\n"
     ]
    }
   ],
   "source": [
    "y_pred = model.predict(x_test)\n",
    "y_pred = scaler.inverse_transform(y_pred)\n",
    "actual_y_pred = scaler.inverse_transform(y_test)"
   ]
  },
  {
   "cell_type": "code",
   "execution_count": 20,
   "id": "677dce02",
   "metadata": {
    "execution": {
     "iopub.execute_input": "2023-08-17T10:26:09.494558Z",
     "iopub.status.busy": "2023-08-17T10:26:09.494248Z",
     "iopub.status.idle": "2023-08-17T10:26:09.661928Z",
     "shell.execute_reply": "2023-08-17T10:26:09.660973Z"
    }
   },
   "outputs": [
    {
     "data": {
      "image/png": "[encoded data removed]",
      "text/plain": [
       "<Figure size 640x480 with 1 Axes>"
      ]
     },
     "metadata": {},
     "output_type": "display_data"
    }
   ],
   "source": [
    "plt.plot(history.history['accuracy'])\n",
    "plt.plot(history.history['val_accuracy'])\n",
    "plt.title('Training and Validation accuracy')\n",
    "plt.xlabel('Epochs')\n",
    "plt.ylabel('Accuracy')\n",
    "plt.legend(['train', 'val'], loc='upper left')\n",
    "plt.show()"
   ]
  },
  {
   "cell_type": "code",
   "execution_count": 21,
   "id": "eb1da216",
   "metadata": {
    "execution": {
     "iopub.execute_input": "2023-08-17T10:26:09.666224Z",
     "iopub.status.busy": "2023-08-17T10:26:09.665172Z",
     "iopub.status.idle": "2023-08-17T10:26:09.857613Z",
     "shell.execute_reply": "2023-08-17T10:26:09.856372Z"
    }
   },
   "outputs": [
    {
     "data": {
      "text/plain": [
       "<matplotlib.legend.Legend at 0x7efb6bf56550>"
      ]
     },
     "execution_count": 21,
     "metadata": {},
     "output_type": "execute_result"
    },
    {
     "data": {
      "image/png": "[encoded data removed]",
      "text/plain": [
       "<Figure size 640x480 with 1 Axes>"
      ]
     },
     "metadata": {},
     "output_type": "display_data"
    }
   ],
   "source": [
    "plt.plot(history.history['loss'])\n",
    "plt.plot(history.history['val_loss'])\n",
    "plt.title(\"Training and validation\")\n",
    "plt.xlabel('Echops')\n",
    "plt.ylabel('loss')\n",
    "plt.legend(['train','val'],loc='upper left')"
   ]
  },
  {
   "cell_type": "code",
   "execution_count": 22,
   "id": "06e3a041",
   "metadata": {
    "execution": {
     "iopub.execute_input": "2023-08-17T10:26:09.861945Z",
     "iopub.status.busy": "2023-08-17T10:26:09.861095Z",
     "iopub.status.idle": "2023-08-17T10:26:09.874793Z",
     "shell.execute_reply": "2023-08-17T10:26:09.873690Z"
    }
   },
   "outputs": [
    {
     "name": "stdout",
     "output_type": "stream",
     "text": [
      "Actual values:\n",
      " RH2M   PS  T2M_RANGE T2M_MAX T2M_MIN WS10M_RANGE\n",
      "         0      1      2      3      4     5\n",
      "0    28.05  20.58  86.94   1.43  93.94  2.38\n",
      "1    27.15  21.61  88.94  13.37  93.84  2.09\n",
      "2    27.75  21.22  87.44   5.92  93.68  3.09\n",
      "3    27.67  21.22  89.19   3.55  93.69  3.81\n",
      "4    27.94  21.11  87.75   3.20  93.78  2.55\n",
      "..     ...    ...    ...    ...    ...   ...\n",
      "99   27.83  13.80  75.75   0.00  94.32  5.09\n",
      "100  27.69  13.29  73.25   0.00  94.26  3.02\n",
      "101  27.76  14.53  73.00   0.00  94.36  3.29\n",
      "102  27.84  15.41  79.44   0.00  94.49  3.80\n",
      "103  27.82  17.48  79.12   0.00  94.51  3.91\n",
      "\n",
      "[104 rows x 6 columns]\n",
      "Predicted values:\n",
      " PRECTOT RH2M PS T2M_RANGE T2M_MAX T2M_MIN T2M WS10M_RANGE\n",
      "             0          1          2         3          4         5\n",
      "0    29.594143  19.560617  80.042458  1.594734  93.972755  2.656415\n",
      "1    28.175060  19.898787  85.555992  2.391438  93.892624  2.640102\n",
      "2    27.472784  21.393229  87.449310  6.599482  93.714218  2.676653\n",
      "3    27.208797  20.902487  87.102585  7.341169  93.763908  3.138457\n",
      "4    27.486227  20.822855  86.933189  7.947926  93.781136  3.492264\n",
      "..         ...        ...        ...       ...        ...       ...\n",
      "99   29.073702  14.805575  76.404984 -3.982833  94.190048  2.986905\n",
      "100  29.090334  14.766219  76.815636 -1.328949  94.178963  3.857807\n",
      "101  28.489307  14.186051  74.362656 -3.368093  94.170639  2.900342\n",
      "102  28.877182  14.966311  76.463158 -3.569986  94.164551  2.943700\n",
      "103  29.200359  15.675417  81.843056 -4.183747  94.198090  3.106647\n",
      "\n",
      "[104 rows x 6 columns]\n"
     ]
    }
   ],
   "source": [
    "print('Actual values:')\n",
    "print(' RH2M   PS  T2M_RANGE T2M_MAX T2M_MIN WS10M_RANGE')\n",
    "print(pd.DataFrame(actual_y_pred))\n",
    "\n",
    "print('Predicted values:')\n",
    "print(' PRECTOT RH2M PS T2M_RANGE T2M_MAX T2M_MIN T2M WS10M_RANGE')\n",
    "print(pd.DataFrame(y_pred))"
   ]
  },
  {
   "cell_type": "code",
   "execution_count": 23,
   "id": "d9cb29c2",
   "metadata": {
    "execution": {
     "iopub.execute_input": "2023-08-17T10:26:09.878462Z",
     "iopub.status.busy": "2023-08-17T10:26:09.878128Z",
     "iopub.status.idle": "2023-08-17T10:26:10.058036Z",
     "shell.execute_reply": "2023-08-17T10:26:10.057012Z"
    }
   },
   "outputs": [
    {
     "name": "stdout",
     "output_type": "stream",
     "text": [
      "accuracy: 29.807692766189575\n"
     ]
    }
   ],
   "source": [
    "score=model.evaluate(actual_y_pred,y_pred,verbose=0)\n",
    "print(\"%s:\"% model.metrics_names[1],score[1]*100)"
   ]
  },
  {
   "cell_type": "code",
   "execution_count": 24,
   "id": "653f1897",
   "metadata": {
    "execution": {
     "iopub.execute_input": "2023-08-17T10:26:10.061249Z",
     "iopub.status.busy": "2023-08-17T10:26:10.060942Z",
     "iopub.status.idle": "2023-08-17T10:26:11.566556Z",
     "shell.execute_reply": "2023-08-17T10:26:11.565580Z"
    }
   },
   "outputs": [
    {
     "name": "stdout",
     "output_type": "stream",
     "text": [
      "17/17 [==============================] - 0s 2ms/step - loss: 0.0096 - accuracy: 0.8407\n",
      "4/4 [==============================] - 0s 4ms/step\n",
      "17/17 [==============================] - 0s 2ms/step - loss: 0.0091 - accuracy: 0.8349\n",
      "4/4 [==============================] - 0s 2ms/step\n",
      "17/17 [==============================] - 0s 2ms/step - loss: 0.0094 - accuracy: 0.8123\n",
      "4/4 [==============================] - 0s 3ms/step\n",
      "17/17 [==============================] - 0s 2ms/step - loss: 0.0100 - accuracy: 0.8429\n",
      "4/4 [==============================] - 0s 2ms/step\n",
      "17/17 [==============================] - 0s 2ms/step - loss: 0.0094 - accuracy: 0.8372\n",
      "4/4 [==============================] - 0s 2ms/step\n",
      "17/17 [==============================] - 0s 2ms/step - loss: 0.0096 - accuracy: 0.8084\n",
      "4/4 [==============================] - 0s 2ms/step\n"
     ]
    }
   ],
   "source": [
    "from sklearn.model_selection import KFold\n",
    "cv = KFold(n_splits=6, shuffle=False)\n",
    "\n",
    "# Iterate through CV splits\n",
    "results = []\n",
    "for tr, tt in cv.split(x_train, y_train):\n",
    "    # Fit the model on training data\n",
    "    model.fit(x_train[tr], y_train[tr])\n",
    "    \n",
    "    # Generate predictions on the test data and collect\n",
    "    prediction = model.predict(x_train[tt])\n",
    "    results.append((prediction, tt))"
   ]
  },
  {
   "cell_type": "code",
   "execution_count": 25,
   "id": "76df3a22",
   "metadata": {
    "execution": {
     "iopub.execute_input": "2023-08-17T10:26:11.570622Z",
     "iopub.status.busy": "2023-08-17T10:26:11.569916Z",
     "iopub.status.idle": "2023-08-17T10:26:11.652893Z",
     "shell.execute_reply": "2023-08-17T10:26:11.651982Z"
    }
   },
   "outputs": [
    {
     "name": "stdout",
     "output_type": "stream",
     "text": [
      "4/4 [==============================] - 0s 2ms/step\n"
     ]
    },
    {
     "data": {
      "text/plain": [
       "array([[0.36475977, 0.67306006, 0.76649415, 0.06736962, 0.5671071 ,\n",
       "        0.35426083],\n",
       "       [0.38807714, 0.6615682 , 0.7724012 , 0.07276495, 0.592273  ,\n",
       "        0.41830614],\n",
       "       [0.41493928, 0.706297  , 0.75574905, 0.09080209, 0.57083833,\n",
       "        0.4451541 ],\n",
       "       [0.30262363, 0.7656397 , 0.84982806, 0.1529579 , 0.49071562,\n",
       "        0.46320173],\n",
       "       [0.32905453, 0.7437904 , 0.79737794, 0.17132182, 0.49027273,\n",
       "        0.5246077 ],\n",
       "       [0.28314218, 0.69652975, 0.8374761 , 0.16716088, 0.50890917,\n",
       "        0.5281303 ],\n",
       "       [0.19057709, 0.6809748 , 0.86012566, 0.14874421, 0.46689194,\n",
       "        0.3780414 ],\n",
       "       [0.1756889 , 0.6906971 , 0.88129926, 0.18967424, 0.4462613 ,\n",
       "        0.46318695],\n",
       "       [0.16083205, 0.7220269 , 0.89816314, 0.23948325, 0.40068978,\n",
       "        0.544865  ],\n",
       "       [0.17749447, 0.67300576, 0.8544536 , 0.2018397 , 0.449505  ,\n",
       "        0.5005051 ],\n",
       "       [0.24282557, 0.99699324, 0.9895991 , 0.26542515, 0.27761388,\n",
       "        0.49007398],\n",
       "       [0.2166856 , 0.9262047 , 0.93724567, 0.25468284, 0.29202834,\n",
       "        0.44487837],\n",
       "       [0.2262783 , 0.84795874, 0.94384235, 0.20217983, 0.39600265,\n",
       "        0.44527343],\n",
       "       [0.23187   , 0.8176597 , 0.9553295 , 0.18186344, 0.4216951 ,\n",
       "        0.43264362],\n",
       "       [0.22926533, 0.7189704 , 0.9280878 , 0.12626483, 0.49127397,\n",
       "        0.37449294],\n",
       "       [0.25693837, 0.6831575 , 0.8955405 , 0.07770287, 0.5510998 ,\n",
       "        0.3252091 ],\n",
       "       [0.32318866, 0.69404894, 0.8335061 , 0.09074862, 0.55500907,\n",
       "        0.39063796],\n",
       "       [0.2567915 , 0.67817956, 0.87587476, 0.10351719, 0.5373215 ,\n",
       "        0.3786968 ],\n",
       "       [0.22319308, 0.6698955 , 0.9141334 , 0.10749333, 0.53708094,\n",
       "        0.3800052 ],\n",
       "       [0.27340412, 0.68652713, 0.85474074, 0.12500261, 0.5275177 ,\n",
       "        0.43120918],\n",
       "       [0.22186756, 0.70088285, 0.8903015 , 0.12722515, 0.5009115 ,\n",
       "        0.37850955],\n",
       "       [0.18066603, 0.6150086 , 0.8547658 , 0.13097705, 0.4629812 ,\n",
       "        0.3350422 ],\n",
       "       [0.28185093, 0.5868815 , 0.76028967, 0.06648521, 0.58784664,\n",
       "        0.24394807],\n",
       "       [0.31031835, 0.65568256, 0.78512055, 0.05852775, 0.5516866 ,\n",
       "        0.2849836 ],\n",
       "       [0.3579196 , 0.67500913, 0.7628868 , 0.05421646, 0.56240386,\n",
       "        0.30575618],\n",
       "       [0.2788725 , 0.7317865 , 0.838774  , 0.12003334, 0.49668187,\n",
       "        0.3683562 ],\n",
       "       [0.20982414, 0.6998939 , 0.86715215, 0.12583272, 0.46280155,\n",
       "        0.3177523 ],\n",
       "       [0.22052574, 0.77058405, 0.9025865 , 0.15627582, 0.4190312 ,\n",
       "        0.34984633],\n",
       "       [0.23878554, 0.6949075 , 0.89329195, 0.08676212, 0.5278332 ,\n",
       "        0.30842808],\n",
       "       [0.22763503, 0.68350554, 0.86374   , 0.09197478, 0.5099826 ,\n",
       "        0.29115343],\n",
       "       [0.2314527 , 0.6847975 , 0.83671194, 0.09997977, 0.49561563,\n",
       "        0.2925141 ],\n",
       "       [0.2107015 , 0.72615695, 0.867568  , 0.1370485 , 0.45384252,\n",
       "        0.31880727],\n",
       "       [0.21544832, 0.71589774, 0.8678983 , 0.12276305, 0.45190766,\n",
       "        0.27275407],\n",
       "       [0.17302519, 0.6676778 , 0.8635388 , 0.17557524, 0.45916682,\n",
       "        0.4382917 ],\n",
       "       [0.12428632, 0.61645806, 0.8623064 , 0.23713137, 0.4262503 ,\n",
       "        0.5367325 ],\n",
       "       [0.14851803, 0.64910585, 0.8555731 , 0.20442005, 0.41084167,\n",
       "        0.3943073 ],\n",
       "       [0.15667856, 0.71620333, 0.8663629 , 0.23041053, 0.40285692,\n",
       "        0.5050959 ],\n",
       "       [0.15290314, 0.6913787 , 0.8896984 , 0.23526119, 0.41896325,\n",
       "        0.5551963 ],\n",
       "       [0.16986975, 0.75428313, 0.8771606 , 0.2294481 , 0.3721531 ,\n",
       "        0.46805182],\n",
       "       [0.18064094, 0.8161437 , 0.8873375 , 0.24494453, 0.34724724,\n",
       "        0.47519454],\n",
       "       [0.21207464, 0.7227738 , 0.91463   , 0.17843132, 0.4812176 ,\n",
       "        0.4943265 ],\n",
       "       [0.22642356, 0.74963015, 0.9071285 , 0.13756646, 0.46067053,\n",
       "        0.35533366],\n",
       "       [0.17114794, 0.83737254, 0.90637255, 0.26260543, 0.27613226,\n",
       "        0.43657598],\n",
       "       [0.1890609 , 0.7326104 , 0.8801294 , 0.18466519, 0.4000926 ,\n",
       "        0.38711876],\n",
       "       [0.21494389, 0.6888185 , 0.91182524, 0.13052182, 0.49880967,\n",
       "        0.39014864],\n",
       "       [0.20377004, 0.7397    , 0.91701907, 0.17794235, 0.43827772,\n",
       "        0.4346144 ],\n",
       "       [0.10441257, 0.80626017, 0.8822373 , 0.24233218, 0.18345743,\n",
       "        0.3627135 ],\n",
       "       [0.16725242, 0.82097876, 0.8899093 , 0.27111578, 0.28817284,\n",
       "        0.45450002],\n",
       "       [0.23977822, 0.7320972 , 0.8658797 , 0.16522099, 0.47241062,\n",
       "        0.44974393],\n",
       "       [0.2232368 , 0.75060296, 0.9204268 , 0.19077216, 0.47227108,\n",
       "        0.5197529 ],\n",
       "       [0.21910167, 0.70568   , 0.91017634, 0.17102103, 0.49595314,\n",
       "        0.4985732 ],\n",
       "       [0.21211725, 0.6746353 , 0.88128847, 0.16739343, 0.49543136,\n",
       "        0.48465338],\n",
       "       [0.24187937, 0.6642223 , 0.8615107 , 0.14373986, 0.51791894,\n",
       "        0.46080258],\n",
       "       [0.20311704, 0.65299886, 0.8919857 , 0.12581004, 0.5081292 ,\n",
       "        0.3848813 ],\n",
       "       [0.22206739, 0.6762986 , 0.9054344 , 0.10883524, 0.5233156 ,\n",
       "        0.36330986],\n",
       "       [0.21305376, 0.64942986, 0.92541367, 0.12062411, 0.5416995 ,\n",
       "        0.42463008],\n",
       "       [0.25153995, 0.6506796 , 0.87634563, 0.12557031, 0.54518735,\n",
       "        0.45462734],\n",
       "       [0.26190874, 0.6463941 , 0.8705558 , 0.12605055, 0.55188495,\n",
       "        0.47014174],\n",
       "       [0.23182082, 0.6649064 , 0.93850297, 0.10888197, 0.55970156,\n",
       "        0.42311007],\n",
       "       [0.2587334 , 0.70632935, 0.94306463, 0.14471324, 0.5472233 ,\n",
       "        0.5169408 ],\n",
       "       [0.25027066, 0.69109905, 0.8909726 , 0.14327051, 0.52325416,\n",
       "        0.47090736],\n",
       "       [0.30357224, 0.7032584 , 0.8397333 , 0.15306737, 0.5238064 ,\n",
       "        0.517289  ],\n",
       "       [0.28634882, 0.72078323, 0.8672468 , 0.12039275, 0.5236021 ,\n",
       "        0.4155159 ],\n",
       "       [0.33798295, 0.6889293 , 0.8158056 , 0.08513962, 0.5604894 ,\n",
       "        0.38760632],\n",
       "       [0.29994214, 0.6675133 , 0.8351688 , 0.05251889, 0.5686038 ,\n",
       "        0.27860507],\n",
       "       [0.31325287, 0.66934687, 0.83141255, 0.09067051, 0.56190574,\n",
       "        0.3983851 ],\n",
       "       [0.25355357, 0.66591465, 0.8717262 , 0.06416707, 0.54983956,\n",
       "        0.28212407],\n",
       "       [0.2509371 , 0.6943422 , 0.93391746, 0.10434787, 0.55396825,\n",
       "        0.40656   ],\n",
       "       [0.2278662 , 0.65986645, 0.9024578 , 0.10745014, 0.54122525,\n",
       "        0.38752902],\n",
       "       [0.2529821 , 0.65136033, 0.8481204 , 0.12371735, 0.5312825 ,\n",
       "        0.42696962],\n",
       "       [0.20138597, 0.64892805, 0.8640327 , 0.11472796, 0.49368376,\n",
       "        0.32993895],\n",
       "       [0.22116774, 0.6822811 , 0.8871414 , 0.10534288, 0.5037844 ,\n",
       "        0.3241897 ],\n",
       "       [0.19829956, 0.5673439 , 0.88273484, 0.1218114 , 0.56257534,\n",
       "        0.45477006],\n",
       "       [0.20417222, 0.5664189 , 0.8472479 , 0.13726045, 0.54470533,\n",
       "        0.4729662 ],\n",
       "       [0.18295318, 0.5726595 , 0.8344532 , 0.10892282, 0.5261195 ,\n",
       "        0.3526969 ],\n",
       "       [0.17622304, 0.5692872 , 0.8381577 , 0.10955079, 0.50712764,\n",
       "        0.32567582],\n",
       "       [0.19778967, 0.59612316, 0.87622017, 0.1005304 , 0.53650224,\n",
       "        0.35467696],\n",
       "       [0.31474528, 0.5676817 , 0.7704973 , 0.03912528, 0.6048023 ,\n",
       "        0.31623083],\n",
       "       [0.30851972, 0.6243515 , 0.80066997, 0.04563056, 0.58227736,\n",
       "        0.29028705],\n",
       "       [0.30419892, 0.60259044, 0.78964317, 0.04511876, 0.59278315,\n",
       "        0.28096604],\n",
       "       [0.28082734, 0.64155424, 0.8150725 , 0.065455  , 0.5534312 ,\n",
       "        0.30006337],\n",
       "       [0.21580142, 0.6782384 , 0.8646431 , 0.10357298, 0.502149  ,\n",
       "        0.30901986],\n",
       "       [0.23774004, 0.70822906, 0.84719235, 0.11999564, 0.48652607,\n",
       "        0.33876348],\n",
       "       [0.20536807, 0.69200563, 0.8458056 , 0.12065087, 0.47112572,\n",
       "        0.2944658 ],\n",
       "       [0.22477686, 0.6368518 , 0.7892949 , 0.15043335, 0.48259586,\n",
       "        0.41746265],\n",
       "       [0.16171026, 0.6453808 , 0.8699765 , 0.18769814, 0.4555543 ,\n",
       "        0.4692636 ],\n",
       "       [0.18096411, 0.62955785, 0.8663269 , 0.14353617, 0.49790967,\n",
       "        0.40885693],\n",
       "       [0.27800184, 0.65535635, 0.8322943 , 0.09263556, 0.545605  ,\n",
       "        0.36657247],\n",
       "       [0.21671727, 0.6886296 , 0.9049075 , 0.12439539, 0.5067691 ,\n",
       "        0.38122815],\n",
       "       [0.20015284, 0.6956676 , 0.90621054, 0.15847607, 0.48041207,\n",
       "        0.43498832],\n",
       "       [0.19946527, 0.71072835, 0.92042667, 0.17328416, 0.47210532,\n",
       "        0.46627244],\n",
       "       [0.1803751 , 0.66756874, 0.8673369 , 0.16237141, 0.4348427 ,\n",
       "        0.36282015],\n",
       "       [0.1824987 , 0.65756065, 0.87132543, 0.1564671 , 0.4682547 ,\n",
       "        0.40594426],\n",
       "       [0.16955233, 0.69735515, 0.8659106 , 0.19696008, 0.4064259 ,\n",
       "        0.4286876 ],\n",
       "       [0.23615825, 0.70389915, 0.87747526, 0.18469657, 0.48836678,\n",
       "        0.5317667 ],\n",
       "       [0.27572048, 0.681775  , 0.8793303 , 0.11521302, 0.54743254,\n",
       "        0.435512  ],\n",
       "       [0.2845591 , 0.69263214, 0.88700336, 0.13360815, 0.5466609 ,\n",
       "        0.491244  ],\n",
       "       [0.26251423, 0.7034414 , 0.8841117 , 0.15958236, 0.5167798 ,\n",
       "        0.51228136],\n",
       "       [0.18065166, 0.7339662 , 0.93085796, 0.2237074 , 0.4481842 ,\n",
       "        0.5650464 ],\n",
       "       [0.18572557, 0.7456477 , 0.8754533 , 0.19560497, 0.40658292,\n",
       "        0.41763198],\n",
       "       [0.2591298 , 0.7345887 , 0.84968626, 0.17442618, 0.47368088,\n",
       "        0.4849454 ],\n",
       "       [0.2713593 , 0.67860824, 0.84515303, 0.13366072, 0.5236959 ,\n",
       "        0.44978756],\n",
       "       [0.23201567, 0.64108545, 0.8621052 , 0.12523274, 0.52981913,\n",
       "        0.42246673],\n",
       "       [0.2830813 , 0.6489598 , 0.8190722 , 0.10505293, 0.5430274 ,\n",
       "        0.40047005]], dtype=float32)"
      ]
     },
     "execution_count": 25,
     "metadata": {},
     "output_type": "execute_result"
    }
   ],
   "source": [
    "model.predict(x_train[tt])"
   ]
  },
  {
   "cell_type": "code",
   "execution_count": null,
   "id": "2728332f",
   "metadata": {},
   "outputs": [],
   "source": []
  }
 ],
 "metadata": {
  "kernelspec": {
   "display_name": "Python 3 (ipykernel)",
   "language": "python",
   "name": "python3"
  },
  "language_info": {
   "codemirror_mode": {
    "name": "ipython",
    "version": 3
   },
   "file_extension": ".py",
   "mimetype": "text/x-python",
   "name": "python",
   "nbconvert_exporter": "python",
   "pygments_lexer": "ipython3",
   "version": "3.11.4"
  }
 },
 "nbformat": 4,
 "nbformat_minor": 5
}
