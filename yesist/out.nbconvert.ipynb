{
 "cells": [
  {
   "cell_type": "code",
   "execution_count": 1,
   "id": "a6915fc3-4b58-4f3f-acee-5a257f2d69be",
   "metadata": {
    "execution": {
     "iopub.execute_input": "2023-08-18T13:46:31.074171Z",
     "iopub.status.busy": "2023-08-18T13:46:31.072696Z",
     "iopub.status.idle": "2023-08-18T13:46:34.918714Z",
     "shell.execute_reply": "2023-08-18T13:46:34.916596Z"
    }
   },
   "outputs": [
    {
     "name": "stderr",
     "output_type": "stream",
     "text": [
      "2023-08-18 19:16:31.765701: I tensorflow/tsl/cuda/cudart_stub.cc:28] Could not find cuda drivers on your machine, GPU will not be used.\n",
      "2023-08-18 19:16:31.822316: I tensorflow/tsl/cuda/cudart_stub.cc:28] Could not find cuda drivers on your machine, GPU will not be used.\n",
      "2023-08-18 19:16:31.823913: I tensorflow/core/platform/cpu_feature_guard.cc:182] This TensorFlow binary is optimized to use available CPU instructions in performance-critical operations.\n",
      "To enable the following instructions: AVX2, in other operations, rebuild TensorFlow with the appropriate compiler flags.\n",
      "2023-08-18 19:16:32.973150: W tensorflow/compiler/tf2tensorrt/utils/py_utils.cc:38] TF-TRT Warning: Could not find TensorRT\n"
     ]
    },
    {
     "name": "stdout",
     "output_type": "stream",
     "text": [
      "Model: \"sequential\"\n",
      "_________________________________________________________________\n",
      " Layer (type)                Output Shape              Param #   \n",
      "=================================================================\n",
      " dense (Dense)               (None, 8)                 56        \n",
      "                                                                 \n",
      " dense_1 (Dense)             (None, 8)                 72        \n",
      "                                                                 \n",
      " dense_2 (Dense)             (None, 6)                 54        \n",
      "                                                                 \n",
      "=================================================================\n",
      "Total params: 182 (728.00 Byte)\n",
      "Trainable params: 182 (728.00 Byte)\n",
      "Non-trainable params: 0 (0.00 Byte)\n",
      "_________________________________________________________________\n",
      "1/1 [==============================] - 0s 98ms/step\n",
      "THE predicted value is  [[ 23.452509   21.442488  140.15857    -4.006604   95.47511     2.8286989]]\n",
      "The weather is:  mild and humid and dry and stormy and breezy\n"
     ]
    },
    {
     "name": "stderr",
     "output_type": "stream",
     "text": [
      "/home/manhera/.local/lib/python3.11/site-packages/sklearn/base.py:464: UserWarning: X does not have valid feature names, but MinMaxScaler was fitted with feature names\n",
      "  warnings.warn(\n"
     ]
    }
   ],
   "source": [
    "import pandas as pd \n",
    "import numpy as np\n",
    "from keras.models import Sequential\n",
    "from keras.layers import Dense, Activation\n",
    "from keras.optimizers import Adam\n",
    "from keras.models import load_model\n",
    "from keras.layers import Dropout\n",
    "x=pd.read_csv(r\"./w.csv\",skiprows=14)\n",
    "from sklearn.preprocessing import MinMaxScaler\n",
    "scaler = MinMaxScaler()\n",
    "\n",
    "scaled = scaler.fit_transform(x.loc[:, ~x.columns.isin(['YEAR',\"DOY\",])])\n",
    "inpp=pd.read_csv('input.csv', header=None, skiprows=1, nrows=1)\n",
    "model = load_model(\"model.h5\")\n",
    "model.summary()\n",
    "inp=[]\n",
    "a1=float(inpp.iloc[0,0])\n",
    "inp.append(a1)\n",
    "a2=float(inpp.iloc[0,1])\n",
    "inp.append(a2)\n",
    "a3=float(inpp.iloc[0,2])\n",
    "inp.append(a3)\n",
    "a4=float(inpp.iloc[0,3])\n",
    "inp.append(a4)\n",
    "a5=float(inpp.iloc[0,4])\n",
    "inp.append(a5)\n",
    "a1=float(inpp.iloc[0,5])\n",
    "inp.append(a1)\n",
    "inputdata=np.array(inp)\n",
    "inputdata.shape=(1,6)\n",
    "input_data=scaler.transform(inputdata)\n",
    "pred=model.predict(input_data)\n",
    "inscaled=scaler.inverse_transform(pred)\n",
    "print(\"THE predicted value is \",inscaled)\n",
    "def get_weather_description(max_temp, min_temp, humidity, precipitation, surface_pressure, wind_speed):\n",
    "    weather_description = []\n",
    "\n",
    "    if max_temp >= 25:\n",
    "        weather_description.append(\"warm\")\n",
    "    elif max_temp <= 10:\n",
    "        weather_description.append(\"cold\")\n",
    "    else:\n",
    "        weather_description.append(\"mild\")\n",
    "\n",
    "    if humidity > 12:\n",
    "        weather_description.append(\"humid\")\n",
    "    else:\n",
    "        weather_description.append(\"dry\")\n",
    "\n",
    "    if precipitation > 2.5:\n",
    "        weather_description.append(\"heavy rain\")\n",
    "    elif precipitation > 0.5:\n",
    "        weather_description.append(\"moderate rain\")\n",
    "    elif precipitation > 0:\n",
    "        weather_description.append(\"light rain\")\n",
    "    else:\n",
    "        weather_description.append(\"dry\")\n",
    "\n",
    "    if surface_pressure < 100:\n",
    "        weather_description.append(\"stormy\")\n",
    "    elif surface_pressure < 101:\n",
    "        weather_description.append(\"unsettled\")\n",
    "    else:\n",
    "        weather_description.append(\"stable\")\n",
    "\n",
    "    if wind_speed < 1:\n",
    "        weather_description.append(\"calm\")\n",
    "    elif wind_speed < 4:\n",
    "        weather_description.append(\"breezy\")\n",
    "    else:\n",
    "        weather_description.append(\"windy\")\n",
    "\n",
    "    return \" and \".join(weather_description)\n",
    "\n",
    "# Taking inputs\n",
    "\n",
    "max_temp, min_temp, humidity, precipitation, surface_pressure, wind_speed=inscaled[0,0],inscaled[0,1],inscaled[0,2],inscaled[0,3],inscaled[0,4],inscaled[0,5]\n",
    "# Get the weather description\n",
    "max\n",
    "weather_desc = get_weather_description(max_temp, min_temp, humidity, precipitation, surface_pressure, wind_speed)\n",
    "\n",
    "# Print the weather description\n",
    "print(\"The weather is: \", weather_desc)"
   ]
  },
  {
   "cell_type": "code",
   "execution_count": 2,
   "id": "d0de6e83-7f9a-4d7c-9f1d-103234fb6f15",
   "metadata": {
    "execution": {
     "iopub.execute_input": "2023-08-18T13:46:34.924318Z",
     "iopub.status.busy": "2023-08-18T13:46:34.923764Z",
     "iopub.status.idle": "2023-08-18T13:46:34.939704Z",
     "shell.execute_reply": "2023-08-18T13:46:34.938213Z"
    }
   },
   "outputs": [
    {
     "data": {
      "text/plain": [
       "6.67"
      ]
     },
     "execution_count": 2,
     "metadata": {},
     "output_type": "execute_result"
    }
   ],
   "source": [
    "a1"
   ]
  },
  {
   "cell_type": "code",
   "execution_count": 3,
   "id": "21937b24-4239-4089-803e-3e3111b71fd4",
   "metadata": {
    "execution": {
     "iopub.execute_input": "2023-08-18T13:46:34.944617Z",
     "iopub.status.busy": "2023-08-18T13:46:34.944253Z",
     "iopub.status.idle": "2023-08-18T13:46:34.952531Z",
     "shell.execute_reply": "2023-08-18T13:46:34.950972Z"
    }
   },
   "outputs": [
    {
     "data": {
      "text/plain": [
       "75.0"
      ]
     },
     "execution_count": 3,
     "metadata": {},
     "output_type": "execute_result"
    }
   ],
   "source": [
    "a3"
   ]
  },
  {
   "cell_type": "code",
   "execution_count": 15,
   "id": "f14606f0-9422-4d3f-8fbc-1ec0477bd39d",
   "metadata": {},
   "outputs": [
    {
     "name": "stdout",
     "output_type": "stream",
     "text": [
      "25\n"
     ]
    }
   ],
   "source": []
  },
  {
   "cell_type": "code",
   "execution_count": null,
   "id": "10051b92-25be-4f5f-a4d0-f5cf35e89eb1",
   "metadata": {},
   "outputs": [],
   "source": []
  }
 ],
 "metadata": {
  "kernelspec": {
   "display_name": "Python 3 (ipykernel)",
   "language": "python",
   "name": "python3"
  },
  "language_info": {
   "codemirror_mode": {
    "name": "ipython",
    "version": 3
   },
   "file_extension": ".py",
   "mimetype": "text/x-python",
   "name": "python",
   "nbconvert_exporter": "python",
   "pygments_lexer": "ipython3",
   "version": "3.11.4"
  }
 },
 "nbformat": 4,
 "nbformat_minor": 5
}
